{
 "cells": [
  {
   "cell_type": "markdown",
   "metadata": {},
   "source": [
    "###### Fraction class : Introduce class type"
   ]
  },
  {
   "cell_type": "code",
   "execution_count": 1,
   "metadata": {},
   "outputs": [],
   "source": [
    "######  Euclid’s Algorithm 辗转相除法 (greatest common divisor)\n",
    "def gcd(m,n):  \n",
    "    while (m % n != 0):  \n",
    "        a = m  \n",
    "        b = n  \n",
    "        m = b  \n",
    "        n = a%b  \n",
    "    return n  "
   ]
  },
  {
   "cell_type": "code",
   "execution_count": 2,
   "metadata": {},
   "outputs": [],
   "source": [
    "class Fraction:\n",
    "    # method starts here \n",
    "    # constructor : defines the way in which data objects are created\n",
    "    def __init__(self,top,bottom):\n",
    "        self.num = top #numerator \n",
    "        self.den = bottom #denominator\n",
    "    def show(self):\n",
    "         print(self.num,\"/\",self.den) #print function\n",
    "    def __str__(self):\n",
    "        return str(self.num)+\"/\"+str(self.den) \n",
    "    #override __str__ method : when call print(), str method will turn internal data into string and return to Fraction object\n",
    "    \n",
    "    def __add__(self,other): \n",
    "        new_num = self.num*other.den + other.num*self.den\n",
    "        new_den = self.den*other.den\n",
    "        common = gcd(new_num,new_den)\n",
    "        return Fraction(new_num//common,new_den//common)\n",
    "    def __eq__(self,other):\n",
    "        left_eq = self.num * other.den\n",
    "        right_eq = self.den * other.num\n",
    "        return  left_eq == right_eq"
   ]
  },
  {
   "cell_type": "markdown",
   "metadata": {},
   "source": [
    "###### Inheritance ：Logic Gates and Circuits"
   ]
  },
  {
   "cell_type": "code",
   "execution_count": null,
   "metadata": {},
   "outputs": [],
   "source": [
    "class LogicGate:\n",
    "    def __init__(self,n):\n",
    "        self.label = n\n",
    "        self.output = None\n",
    "    def getLabel(self):\n",
    "        return self.label\n",
    "    def getOutput(self):\n",
    "        self.output = self.performGateLogic()\n",
    "        return self.output"
   ]
  }
 ],
 "metadata": {
  "kernelspec": {
   "display_name": "Python 3",
   "language": "python",
   "name": "python3"
  },
  "language_info": {
   "codemirror_mode": {
    "name": "ipython",
    "version": 3
   },
   "file_extension": ".py",
   "mimetype": "text/x-python",
   "name": "python",
   "nbconvert_exporter": "python",
   "pygments_lexer": "ipython3",
   "version": "3.6.3"
  }
 },
 "nbformat": 4,
 "nbformat_minor": 2
}
