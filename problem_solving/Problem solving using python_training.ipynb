{
 "cells": [
  {
   "cell_type": "markdown",
   "metadata": {},
   "source": [
    "###### monkey problem - Ex1.12 in Problem Solving"
   ]
  },
  {
   "cell_type": "code",
   "execution_count": null,
   "metadata": {},
   "outputs": [],
   "source": [
    "# define function 1\n",
    "import random\n",
    "def generateone(strlen):\n",
    "    alphabet = \"abcdefghijklmnopqrstuywxyz \"\n",
    "    res = \"\"\n",
    "    for i in range(strlen):\n",
    "        res = res + alphabet[random.randrange(27)]\n",
    "    return res\n",
    "# define scoring function\n",
    "def score(goal,teststring):\n",
    "    numSame = 0\n",
    "    for i in range(len(goal)):\n",
    "        if goal[i] == teststring[i]:\n",
    "            numSame += 1\n",
    "    return numSame / len(goal)\n",
    "\n",
    "# define test function\n",
    "def test_it():\n",
    "    goalstring = 'methinks it is like a weasel'\n",
    "    teststring = generateone(28)\n",
    "    best = 0\n",
    "    newscore = score(goalstring,teststring)\n",
    "    while(newscore != 1):\n",
    "        if best <= newscore:\n",
    "            print (newscore,teststring)\n",
    "            best = newscore\n",
    "        teststring = generateone(28)\n",
    "        newscore = score(goalstring,teststring)        "
   ]
  },
  {
   "cell_type": "markdown",
   "metadata": {},
   "source": [
    "###### Ex1.13.1: Fraction class"
   ]
  },
  {
   "cell_type": "code",
   "execution_count": null,
   "metadata": {},
   "outputs": [],
   "source": [
    "#  Euclid’s Algorithm 辗转相除法 (greatest common divisor)\n",
    "def gcd(m,n):\n",
    "    while (m % n != 0):\n",
    "        a = m\n",
    "        b = n\n",
    "        m = b\n",
    "        n = a % b\n",
    "    return n"
   ]
  },
  {
   "cell_type": "code",
   "execution_count": null,
   "metadata": {},
   "outputs": [],
   "source": [
    "class Fraction:\n",
    "    # method starts here \n",
    "    # constructor : defines the way in which data objects are created\n",
    "    def __init__(self,top,bottom):\n",
    "        self.num = top #numerator \n",
    "        self.den = bottom #denominator\n",
    "#     def show(self):\n",
    "#         print(self.num,\"/\",self.den) #print function\n",
    "    def __str__(self):\n",
    "        common = gcd(self.num,self.den)\n",
    "        new_num,new_den = self.num//common,self.den//common\n",
    "        if new_num % new_den != 0:\n",
    "            return str(new_num)+\"/\"+str(new_den)\n",
    "        else:\n",
    "            return str(new_num//new_den)\n",
    "    #override __str__ method : when call print(), str method will turn internal data into string and return to Fraction object\n",
    "    \n",
    "    def __add__(self,other): \n",
    "        new_num = self.num*other.den + other.num*self.den\n",
    "        new_den = self.den*other.den\n",
    "        common = gcd(new_num,new_den)\n",
    "        return Fraction(new_num//common,new_den//common)\n",
    "    \n",
    "    def __eq__(self,other):\n",
    "        left_eq = self.num * other.den\n",
    "        right_eq = self.den * other.num\n",
    "        return  left_eq == right_eq\n",
    "    \n",
    "    def __sub__(self,other):\n",
    "        new_num = self.num*other.den - other.num*self.den\n",
    "        new_den = self.den*other.den\n",
    "        common = gcd(new_num,new_den)\n",
    "        return Fraction(new_num//common,new_den//common)\n",
    "    \n",
    "    def __mul__(self,other):\n",
    "        new_num = self.num*other.num\n",
    "        new_den = self.den*other.den\n",
    "        common = gcd(new_num,new_den)\n",
    "        return Fraction(new_num//common,new_den//common)\n",
    "    \n",
    "    def __truediv__(self,other):\n",
    "        new_num = self.num*other.den\n",
    "        new_den = self.den*other.num\n",
    "        common = gcd(new_num,new_den)\n",
    "        return Fraction(new_num//common,new_den//common)\n",
    "    \n",
    "    def __ge__(self,other):\n",
    "        left_eq = self.num * other.den\n",
    "        right_eq = self.den * other.num\n",
    "        return  left_eq >= right_eq\n",
    "    \n",
    "    def __le__(self,other):\n",
    "        left_eq = self.num * other.den\n",
    "        right_eq = self.den * other.num\n",
    "        return  left_eq <= right_eq\n",
    "    \n",
    "    def __gt__(self,other):\n",
    "        left_eq = self.num * other.den\n",
    "        right_eq = self.den * other.num\n",
    "        return  left_eq > right_eq\n",
    "    \n",
    "    def __lt__(self,other):\n",
    "        left_eq = self.num * other.den\n",
    "        right_eq = self.den * other.num\n",
    "        return  left_eq < right_eq\n",
    "    \n",
    "    def __ne__(self,other):\n",
    "        left_eq = self.num * other.den\n",
    "        right_eq = self.den * other.num\n",
    "        return  left_eq != right_eq"
   ]
  },
  {
   "cell_type": "code",
   "execution_count": null,
   "metadata": {},
   "outputs": [],
   "source": [
    "f1 = Fraction(2,3)\n",
    "f2 = Fraction(3,2)\n",
    "f3 = Fraction(6,4)\n",
    "print(f1==f2)"
   ]
  },
  {
   "cell_type": "code",
   "execution_count": null,
   "metadata": {},
   "outputs": [],
   "source": []
  }
 ],
 "metadata": {
  "kernelspec": {
   "display_name": "Python 3",
   "language": "python",
   "name": "python3"
  },
  "language_info": {
   "codemirror_mode": {
    "name": "ipython",
    "version": 3
   },
   "file_extension": ".py",
   "mimetype": "text/x-python",
   "name": "python",
   "nbconvert_exporter": "python",
   "pygments_lexer": "ipython3",
   "version": "3.6.3"
  }
 },
 "nbformat": 4,
 "nbformat_minor": 2
}
